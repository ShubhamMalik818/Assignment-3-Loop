{
 "cells": [
  {
   "cell_type": "code",
   "execution_count": null,
   "id": "a0b6539f-a0ec-47d0-9972-0046a71b3d52",
   "metadata": {},
   "outputs": [],
   "source": [
    "\n",
    "    1. Explain with an example each when to use a for loop and a while loop."
   ]
  },
  {
   "cell_type": "code",
   "execution_count": null,
   "id": "0ed41f3e-d9aa-45fc-99fe-4de60c0611b3",
   "metadata": {},
   "outputs": [],
   "source": [
    "ANS- The for loop is used when we already know the number of iterations, which means when we know how many times a statement has to be executed. \n",
    "     That is why we have to specify the ending point in the for loop initialization. When we need to end the loop on a condition other than the number of times, we use a while loop\n",
    "    \n",
    "     A for loop is used when you want to repeat a block of code a fixed number of times. For example, if you want to print the numbers from 1 to 10, you can use a for loop like this:"
   ]
  },
  {
   "cell_type": "code",
   "execution_count": 1,
   "id": "a8fbec91-6275-4037-b6e9-3754b4ccccb0",
   "metadata": {},
   "outputs": [
    {
     "name": "stdout",
     "output_type": "stream",
     "text": [
      "1\n",
      "2\n",
      "3\n",
      "4\n",
      "5\n",
      "6\n",
      "7\n",
      "8\n",
      "9\n",
      "10\n"
     ]
    }
   ],
   "source": [
    "#Program of For Loop\n",
    "for i in range(1, 11):\n",
    "    print(i)\n"
   ]
  },
  {
   "cell_type": "code",
   "execution_count": 2,
   "id": "af6b2fa3-cecc-4843-b7e1-164e5ae389c1",
   "metadata": {},
   "outputs": [
    {
     "name": "stdout",
     "output_type": "stream",
     "text": [
      "1\n",
      "2\n",
      "3\n",
      "4\n",
      "5\n",
      "6\n",
      "7\n",
      "8\n",
      "9\n",
      "10\n"
     ]
    }
   ],
   "source": [
    "#Program of While Loop\n",
    "i=1\n",
    "while i<=10:\n",
    "    print(i)\n",
    "    i=i+1\n",
    "    "
   ]
  },
  {
   "cell_type": "code",
   "execution_count": null,
   "id": "f6344121-bc99-4fd1-9cc7-d3818102be09",
   "metadata": {},
   "outputs": [],
   "source": [
    "2. Write a python program to print the sum and product of the first 10 natural numbers using for and while loop."
   ]
  },
  {
   "cell_type": "code",
   "execution_count": 4,
   "id": "22acfe55-691d-4b5e-ac96-f12ccd0b85c6",
   "metadata": {},
   "outputs": [
    {
     "name": "stdout",
     "output_type": "stream",
     "text": [
      "Sum of first 10 numbers (using for loop): 55\n",
      "Product of first 10 numbers (using for loop): 3628800\n",
      "\n",
      "\n",
      "Sum of first 10 numbers (using while loop): 55\n",
      "Product of first 10 numbers (using while loop): 3628800\n"
     ]
    }
   ],
   "source": [
    "#program for sum and product of first 10 natural numbers\n",
    "\n",
    "#Using for loop\n",
    "\n",
    "sum_of_first_10_numbers = 0\n",
    "product_of_first_10_numbers = 1\n",
    "for i in range(1, 11):\n",
    "    sum_of_first_10_numbers += i\n",
    "    product_of_first_10_numbers *= i\n",
    "print(\"Sum of first 10 numbers (using for loop):\", sum_of_first_10_numbers)\n",
    "print(\"Product of first 10 numbers (using for loop):\", product_of_first_10_numbers)\n",
    "\n",
    "print(\"\\n\")\n",
    "\n",
    "# Using while loop\n",
    "\n",
    "i = 1\n",
    "sum_of_first_10_numbers = 0\n",
    "product_of_first_10_numbers = 1\n",
    "while i <= 10:\n",
    "    sum_of_first_10_numbers += i\n",
    "    product_of_first_10_numbers *= i\n",
    "    i += 1\n",
    "print(\"Sum of first 10 numbers (using while loop):\", sum_of_first_10_numbers)\n",
    "print(\"Product of first 10 numbers (using while loop):\", product_of_first_10_numbers)\n"
   ]
  },
  {
   "cell_type": "code",
   "execution_count": null,
   "id": "9ae993ed-c851-4305-9821-1becad9f148d",
   "metadata": {},
   "outputs": [],
   "source": [
    "3. Create a python program to compute the electricity bill for household.\n",
    "\n",
    "   The per-unit charges in rupees are as follows: For the first 100 units, the user will be charged Rs. 4.5 per\n",
    "unit, for the next 100 units, the user will be charged Rs. 6 per unit, and for the next 100 units, the user will\n",
    "be charged Rs. 10 per unit, After 300 units and above the user will be charged Rs. 20 per unit.\n",
    "\n",
    "You are required to take the units of electricity consumed in a month from the user as input."
   ]
  },
  {
   "cell_type": "code",
   "execution_count": 7,
   "id": "0a2e2efe-25da-4e10-bd1b-3b259dea55bf",
   "metadata": {},
   "outputs": [
    {
     "name": "stdin",
     "output_type": "stream",
     "text": [
      "Enter the number of units consumed in a month:  310\n"
     ]
    },
    {
     "name": "stdout",
     "output_type": "stream",
     "text": [
      "Total bill: Rs. 2250.0\n"
     ]
    }
   ],
   "source": [
    "units = int(input(\"Enter the number of units consumed in a month: \"))\n",
    "\n",
    "total_bill = 0\n",
    "\n",
    "if units <= 100:\n",
    "    total_bill = units * 4.5\n",
    "elif units <= 200:\n",
    "    total_bill = 100 * 4.5 + (units - 100) * 6\n",
    "elif units <= 300:\n",
    "    total_bill = 100 * 4.5 + 100 * 6 + (units - 200) * 10\n",
    "else:\n",
    "    total_bill = 100 * 4.5 + 100 * 6 + 100 * 10 + (units - 300) * 20\n",
    "\n",
    "print(\"Total bill: Rs.\", total_bill)\n"
   ]
  },
  {
   "cell_type": "code",
   "execution_count": null,
   "id": "722cf477-9e8e-48c8-a223-abfb762c5465",
   "metadata": {},
   "outputs": [],
   "source": [
    "4. Create a list of numbers from 1 to 100. Use for loop and while loop to calculate the cube of each number and if the cube of that number is divisible by 4 or 5 then append that number in a list and print that list."
   ]
  },
  {
   "cell_type": "code",
   "execution_count": 8,
   "id": "efca775b-2521-4aa2-8d2a-49cd53578d01",
   "metadata": {},
   "outputs": [
    {
     "name": "stdout",
     "output_type": "stream",
     "text": [
      "[2, 4, 5, 6, 8, 10, 12, 14, 15, 16, 18, 20, 22, 24, 25, 26, 28, 30, 32, 34, 35, 36, 38, 40, 42, 44, 45, 46, 48, 50, 52, 54, 55, 56, 58, 60, 62, 64, 65, 66, 68, 70, 72, 74, 75, 76, 78, 80, 82, 84, 85, 86, 88, 90, 92, 94, 95, 96, 98, 100]\n"
     ]
    }
   ],
   "source": [
    "#Using for loop\n",
    "\n",
    "# Creating an empty list to store the numbers whose cubes are divisible by 4 or 5\n",
    "num_list = []\n",
    "\n",
    "# Using for loop to calculate the cube of each number from 1 to 100 and checking if it is divisible by 4 or 5\n",
    "for num in range(1, 101):\n",
    "    cube = num ** 3\n",
    "    if cube % 4 == 0 or cube % 5 == 0:\n",
    "        num_list.append(num)\n",
    "\n",
    "# Printing the list of numbers whose cubes are divisible by 4 or 5\n",
    "print(num_list)\n"
   ]
  },
  {
   "cell_type": "code",
   "execution_count": null,
   "id": "f886766c-b77c-4778-9701-c6be7ee7b5af",
   "metadata": {},
   "outputs": [],
   "source": [
    "#Using while loop\n",
    "\n",
    "# Creating an empty list to store the numbers whose cubes are divisible by 4 or 5\n",
    "num_list = []\n",
    "\n",
    "# Using while loop to calculate the cube of each number from 1 to 100 and checking if it is divisible by 4 or 5\n",
    "num = 1\n",
    "while num <= 100:\n",
    "    cube = num ** 3\n",
    "    if cube % 4 == 0 or cube % 5 == 0:\n",
    "        num_list.append(num)\n",
    "    num += 1\n",
    "\n",
    "# Printing the list of numbers whose cubes are divisible by 4 or 5\n",
    "print(num_list)\n"
   ]
  },
  {
   "cell_type": "code",
   "execution_count": null,
   "id": "3612c2fc-f067-4541-8766-eb027d622c93",
   "metadata": {},
   "outputs": [],
   "source": [
    "5. Write a program to filter count vowels in the below-given string.\n",
    "   string='I want to become a data scientist'"
   ]
  },
  {
   "cell_type": "code",
   "execution_count": 15,
   "id": "0bbfb44b-9987-48a5-b4cd-83c21e4a7dc1",
   "metadata": {},
   "outputs": [
    {
     "name": "stdout",
     "output_type": "stream",
     "text": [
      "I want to become a data scientist\n",
      "Nuumber vowels in given sentence is  12\n"
     ]
    }
   ],
   "source": [
    "s1='I want to become a data scientist'\n",
    "s3=s1.lower()\n",
    "print(s1)\n",
    "count=0\n",
    "l=['a','e','i','o','u']\n",
    "for s2 in s3:\n",
    "    if s2 in l:\n",
    "        count=count+1\n",
    "print('Nuumber vowels in given sentence is ',count)"
   ]
  },
  {
   "cell_type": "code",
   "execution_count": null,
   "id": "92d36365-0cf6-485b-a30e-fd907c49af08",
   "metadata": {},
   "outputs": [],
   "source": []
  }
 ],
 "metadata": {
  "kernelspec": {
   "display_name": "Python 3 (ipykernel)",
   "language": "python",
   "name": "python3"
  },
  "language_info": {
   "codemirror_mode": {
    "name": "ipython",
    "version": 3
   },
   "file_extension": ".py",
   "mimetype": "text/x-python",
   "name": "python",
   "nbconvert_exporter": "python",
   "pygments_lexer": "ipython3",
   "version": "3.10.8"
  }
 },
 "nbformat": 4,
 "nbformat_minor": 5
}
